{
 "cells": [
  {
   "cell_type": "code",
   "execution_count": null,
   "metadata": {},
   "outputs": [],
   "source": [
    "import random\n",
    "import torch\n",
    "import torch.nn as nn\n",
    "import pandas as pd\n",
    "from sklearn.model_selection import train_test_split\n",
    "from sklearn.preprocessing import StandardScaler\n",
    "from torch.utils.data import DataLoader, TensorDataset\n",
    "import numpy as np \n"
   ]
  },
  {
   "cell_type": "code",
   "execution_count": null,
   "metadata": {},
   "outputs": [],
   "source": [
    "# Load the dataset\n",
    "data = pd.read_excel('/Users/achaudhari/Desktop/Book Prediction New/out/Training.xlsx')\n",
    "   \n",
    "# Use get_dummies to convert 'genre' into binary data\n",
    "data = pd.get_dummies(data, columns=['Genre','Author'])"
   ]
  },
  {
   "cell_type": "code",
   "execution_count": null,
   "metadata": {},
   "outputs": [],
   "source": [
    "data['Total Reviews'] = data['Total Reviews'].astype(str).str.replace(',', '').astype(int)\n",
    "data['Length'] = data['Length'].astype(str).str.replace(',', '').astype(float)\n",
    "\n",
    "# Define features and target variable\n",
    "X = data[['Ratings out of 5','Price','Length'] \n",
    "        + [col for col in data.columns if 'Author_' in col]\n",
    "        + [col for col in data.columns if 'Genre_' in col]\n",
    "    ]\n",
    "\n",
    "data['is_bestseller'] = (data['Best Seller Rank'] <= 10000).astype(float)\n",
    "\n",
    "# Now use 'is_bestseller' as the target variable\n",
    "y = data['is_bestseller']"
   ]
  },
  {
   "cell_type": "code",
   "execution_count": null,
   "metadata": {},
   "outputs": [],
   "source": [
    "# Split the dataset into training and testing sets\n",
    "X_train, X_test, y_train, y_test = train_test_split(X, y, test_size=0.2, shuffle=True)\n",
    "\n",
    "# Normalize features\n",
    "scaler = StandardScaler()\n",
    "features_to_scale = ['Ratings out of 5','Price','Length']\n",
    "X_train[features_to_scale] = scaler.fit_transform(X_train[features_to_scale])\n",
    "X_test[features_to_scale] = scaler.transform(X_test[features_to_scale])"
   ]
  },
  {
   "cell_type": "code",
   "execution_count": null,
   "metadata": {},
   "outputs": [],
   "source": [
    "# Convert to PyTorch tensors\n",
    "X_train_tensor = torch.tensor(X_train.to_numpy().astype(np.float32))\n",
    "y_train_tensor = torch.tensor(y_train.to_numpy().astype(np.float32))\n",
    "X_test_tensor = torch.tensor(X_test.to_numpy().astype(np.float32))\n",
    "y_test_tensor = torch.tensor(y_test.to_numpy().astype(np.float32))\n",
    "\n",
    "# Create datasets\n",
    "train_dataset = TensorDataset(X_train_tensor, y_train_tensor)\n",
    "test_dataset = TensorDataset(X_test_tensor, y_test_tensor)\n"
   ]
  },
  {
   "cell_type": "code",
   "execution_count": null,
   "metadata": {},
   "outputs": [],
   "source": [
    "# Create data loaders\n",
    "train_loader = DataLoader(dataset=train_dataset, batch_size=64, shuffle=True)\n",
    "test_loader = DataLoader(dataset=test_dataset, batch_size=64, shuffle=False)"
   ]
  },
  {
   "cell_type": "code",
   "execution_count": null,
   "metadata": {},
   "outputs": [],
   "source": [
    "# Define the logistic regression model\n",
    "class LogisticRegressionModel(nn.Module):\n",
    "    def __init__(self, input_dim):\n",
    "        super(LogisticRegressionModel, self).__init__()\n",
    "        self.linear = nn.Linear(input_dim, 1)\n",
    "    \n",
    "    def forward(self, x):\n",
    "        outputs = torch.sigmoid(self.linear(x))\n",
    "        return outputs.squeeze()\n"
   ]
  },
  {
   "cell_type": "code",
   "execution_count": null,
   "metadata": {},
   "outputs": [],
   "source": [
    "# Instantiate the model\n",
    "input_dim = X_train.shape[1]\n",
    "model = LogisticRegressionModel(input_dim)\n",
    "\n",
    "# Define loss function and optimizer\n",
    "criterion = nn.BCELoss()\n",
    "optimizer = torch.optim.SGD(model.parameters(), lr=0.005)"
   ]
  },
  {
   "attachments": {},
   "cell_type": "markdown",
   "metadata": {},
   "source": [
    "# Model Training"
   ]
  },
  {
   "cell_type": "code",
   "execution_count": null,
   "metadata": {},
   "outputs": [],
   "source": [
    "# Train the model\n",
    "num_epochs = 1000\n",
    "for epoch in range(num_epochs):\n",
    "    for inputs, y_true in train_loader:\n",
    "        y_pred = model(inputs)\n",
    "\n",
    "        loss = criterion(y_pred, y_true)\n",
    "        \n",
    "        # Backward and optimize\n",
    "        optimizer.zero_grad()\n",
    "        loss.backward()\n",
    "        optimizer.step()\n",
    "        \n",
    "    if (epoch+1) % 100 == 0:\n",
    "        print(f'Epoch [{epoch+1}/{num_epochs}], Loss: {loss.item():.4f}')\n"
   ]
  },
  {
   "attachments": {},
   "cell_type": "markdown",
   "metadata": {},
   "source": [
    "# Testing Model"
   ]
  },
  {
   "cell_type": "code",
   "execution_count": null,
   "metadata": {},
   "outputs": [],
   "source": [
    "# Test the model\n",
    "with torch.no_grad():\n",
    "    correct = 0\n",
    "    total = 0\n",
    "    for inputs, labels in test_loader:\n",
    "        outputs = model(inputs)\n",
    "        \n",
    "        predicted = (outputs >= 0.5).float()\n",
    "\n",
    "        correct += (predicted == labels).sum().item()\n",
    "\n",
    "        total += labels.size(0)\n",
    "\n",
    "accuracy = correct / total\n",
    "print(f'Accuracy of the model on the test set: {accuracy:.4f}')\n"
   ]
  },
  {
   "attachments": {},
   "cell_type": "markdown",
   "metadata": {},
   "source": [
    "# Confusion Matrix"
   ]
  },
  {
   "cell_type": "code",
   "execution_count": null,
   "metadata": {},
   "outputs": [],
   "source": [
    "from sklearn.metrics import confusion_matrix\n",
    "import seaborn as sns\n",
    "import matplotlib.pyplot as plt\n",
    "\n",
    "# Function to get predictions from the PyTorch model\n",
    "def get_predictions(model, data_loader):\n",
    "    model.eval()  # Set the model to evaluation mode\n",
    "    predictions = []\n",
    "    with torch.no_grad():\n",
    "        for inputs, _ in data_loader:\n",
    "            outputs = model(inputs)\n",
    "            predicted = (outputs >= 0.5).float()  # Apply threshold to get binary predictions\n",
    "            predictions.extend(predicted.tolist())\n",
    "    return predictions\n",
    "\n",
    "# Get predictions\n",
    "y_pred = get_predictions(model, test_loader)\n",
    "\n",
    "# Since y_test is a numpy array, ensure y_pred is too\n",
    "y_pred = np.array(y_pred)\n",
    "\n",
    "# Confusion matrix\n",
    "cm = confusion_matrix(y_test, y_pred)\n",
    "\n",
    "# Plotting the confusion matrix\n",
    "plt.figure(figsize=(10,7))\n",
    "sns.heatmap(cm, annot=True, fmt='d')\n",
    "plt.xlabel('Predicted')\n",
    "plt.ylabel('Truth')\n",
    "plt.title('Confusion Matrix')\n",
    "plt.show()\n"
   ]
  },
  {
   "attachments": {},
   "cell_type": "markdown",
   "metadata": {},
   "source": [
    "# Distribution of Books and Authors"
   ]
  },
  {
   "cell_type": "code",
   "execution_count": null,
   "metadata": {},
   "outputs": [],
   "source": [
    "import matplotlib.pyplot as plt\n",
    "\n",
    "# Assuming your authors were one-hot encoded like 'Author_Name'\n",
    "# Extracting columns that are authors\n",
    "author_columns = [col for col in data.columns if 'Author_' in col]\n",
    "\n",
    "# Count the number of times each author appears in the dataset\n",
    "author_counts = data[author_columns].sum()\n",
    "\n",
    "# Create a frequency distribution of the number of books per author\n",
    "freq_distribution = author_counts.value_counts()\n",
    "\n",
    "# Plotting\n",
    "plt.figure(figsize=(12, 6))\n",
    "freq_distribution.plot(kind='bar')\n",
    "plt.title('Frequency Distribution of Number of Books per Author')\n",
    "plt.xlabel('Number of Books')\n",
    "plt.ylabel('Number of Authors')\n",
    "plt.show()\n"
   ]
  },
  {
   "attachments": {},
   "cell_type": "markdown",
   "metadata": {},
   "source": [
    "# Training and Testing Loss Curve"
   ]
  },
  {
   "cell_type": "code",
   "execution_count": null,
   "metadata": {},
   "outputs": [],
   "source": [
    "import matplotlib.pyplot as plt\n",
    "\n",
    "# Define the logistic regression model with dropout\n",
    "class LogisticRegressionModel(nn.Module):\n",
    "    def __init__(self, input_dim):\n",
    "        super(LogisticRegressionModel, self).__init__()\n",
    "        self.linear = nn.Linear(input_dim, 1)\n",
    "        self.dropout = nn.Dropout(p=0.5)  # 50% dropout\n",
    "\n",
    "    def forward(self, x):\n",
    "        x = self.dropout(x)\n",
    "        outputs = torch.sigmoid(self.linear(x))\n",
    "        return outputs.squeeze()\n",
    "\n",
    "# Instantiate the model with dropout\n",
    "model = LogisticRegressionModel(input_dim)\n",
    "\n",
    "# Define loss function and optimizer with L2 regularization (weight decay)\n",
    "optimizer = torch.optim.SGD(model.parameters(), lr=0.005, weight_decay=1e-4)\n",
    "\n",
    "# Lists to store losses and implement early stopping\n",
    "train_losses = []\n",
    "test_losses = []\n",
    "early_stopping_patience = 10\n",
    "min_test_loss = np.Inf\n",
    "patience_counter = 0\n",
    "\n",
    "# Train the model with early stopping\n",
    "num_epochs = 1000\n",
    "for epoch in range(num_epochs):\n",
    "    model.train()\n",
    "    total_train_loss = 0\n",
    "    for inputs, y_true in train_loader:\n",
    "        y_pred = model(inputs)\n",
    "        loss = criterion(y_pred, y_true)\n",
    "        \n",
    "        optimizer.zero_grad()\n",
    "        loss.backward()\n",
    "        optimizer.step()\n",
    "\n",
    "        total_train_loss += loss.item()\n",
    "    avg_train_loss = total_train_loss / len(train_loader)\n",
    "    train_losses.append(avg_train_loss)\n",
    "\n",
    "    model.eval()\n",
    "    total_test_loss = 0\n",
    "    with torch.no_grad():\n",
    "        for inputs, labels in test_loader:\n",
    "            outputs = model(inputs)\n",
    "            loss = criterion(outputs, labels)\n",
    "            total_test_loss += loss.item()\n",
    "    avg_test_loss = total_test_loss / len(test_loader)\n",
    "    test_losses.append(avg_test_loss)\n",
    "\n",
    "    if avg_test_loss < min_test_loss:\n",
    "        min_test_loss = avg_test_loss\n",
    "        patience_counter = 0  # reset counter if test loss has decreased\n",
    "    else:\n",
    "        patience_counter += 1  # increase counter if test loss has not decreased\n",
    "\n",
    "    if (epoch+1) % 100 == 0 or patience_counter == early_stopping_patience:\n",
    "        print(f'Epoch [{epoch+1}/{num_epochs}], Training Loss: {avg_train_loss:.4f}, Testing Loss: {avg_test_loss:.4f}')\n",
    "\n",
    "    if patience_counter == early_stopping_patience:\n",
    "        print(\"Early stopping triggered.\")\n",
    "        break\n",
    "\n",
    "# Plotting the training and testing losses\n",
    "plt.figure(figsize=(10, 5))\n",
    "plt.plot(train_losses, label='Training Loss')\n",
    "plt.plot(test_losses, label='Testing Loss')\n",
    "plt.xlabel('Epochs')\n",
    "plt.ylabel('Loss')\n",
    "plt.title('Training and Testing Loss Over Epochs')\n",
    "plt.legend()\n",
    "plt.show()\n"
   ]
  },
  {
   "attachments": {},
   "cell_type": "markdown",
   "metadata": {},
   "source": [
    "# Model Prediction"
   ]
  },
  {
   "cell_type": "code",
   "execution_count": null,
   "metadata": {},
   "outputs": [],
   "source": [
    "# New book data (example)\n",
    "new_book_data = pd.DataFrame([{\n",
    "    'Total Reviews': 30308,\n",
    "    'Ratings out of 5': 4.5,\n",
    "    'Price': 21.14,\n",
    "    'Length': 368,\n",
    "    # Add appropriate 'Genre_' and 'Author_' columns with 0/1 values\n",
    "    # based on the genre and author of the new book\n",
    "    'Genre_Womens Fiction': 1,\n",
    "    # ... other genre columns set to 0\n",
    "    'Author_Andrzej Sapkowski': 1,\n",
    "    'Author_Danusia Stok': 1\n",
    "    # ... other author columns set to 0\n",
    "}])\n",
    "\n",
    "# Use the same dummy variable encoding as used for the training data\n",
    "# For the columns not present in new_book_data, set them to 0\n",
    "for column in X_train.columns:\n",
    "    if column not in new_book_data.columns:\n",
    "        new_book_data[column] = 0\n",
    "\n",
    "# Ensure the order of columns matches that of the training data\n",
    "new_book_data = new_book_data[X_train.columns]\n",
    "\n",
    "# Normalize features\n",
    "new_book_data[features_to_scale] = scaler.transform(new_book_data[features_to_scale])\n",
    "\n",
    "# Convert to PyTorch tensor\n",
    "new_book_tensor = torch.tensor(new_book_data.to_numpy().astype(np.float32))\n",
    "\n",
    "# Prediction\n",
    "with torch.no_grad():\n",
    "    predicted_prob = model(new_book_tensor)\n",
    "    predicted_class = (predicted_prob >= 0.5).float()\n",
    "\n",
    "print(f\"Predicted Probability: {predicted_prob.item()}\")\n",
    "print(f\"Predicted Class (1: Bestseller, 0: Not Bestseller): {predicted_class.item()}\")\n"
   ]
  },
  {
   "attachments": {},
   "cell_type": "markdown",
   "metadata": {},
   "source": [
    "# Sensitivity Analysis when prices increase"
   ]
  },
  {
   "cell_type": "code",
   "execution_count": null,
   "metadata": {},
   "outputs": [],
   "source": [
    "def plot_price_sensitivity(model, X_base, feature_name='Price', range_values=(0, 100), steps=100):\n",
    "    price_values = np.linspace(*range_values, steps)\n",
    "    predictions = []\n",
    "\n",
    "    # Get the mean and std for 'Price' from the scaler\n",
    "    price_mean = scaler.mean_[X_train.columns.get_loc(feature_name)]\n",
    "    price_std = scaler.scale_[X_train.columns.get_loc(feature_name)]\n",
    "\n",
    "    for price in price_values:\n",
    "        # Manually apply scaling\n",
    "        scaled_price = (price - price_mean) / price_std\n",
    "        X_temp = X_base.copy()\n",
    "        X_temp[feature_name] = scaled_price\n",
    "        with torch.no_grad():\n",
    "            prediction = model(torch.tensor(X_temp.astype(np.float32)))\n",
    "            predictions.append(prediction.numpy())\n",
    "\n",
    "    plt.plot(price_values, predictions)\n",
    "    plt.xlabel('Price')\n",
    "    plt.ylabel('Probability of Being Bestseller')\n",
    "    plt.title('Sensitivity Analysis for Price')\n",
    "    plt.show()\n",
    "\n",
    "# Base input - mean values for all features except 'Price'\n",
    "X_base = X_train.mean()\n",
    "plot_price_sensitivity(model, X_base)\n"
   ]
  },
  {
   "attachments": {},
   "cell_type": "markdown",
   "metadata": {},
   "source": [
    "# Sensitivity Analysis for Genre"
   ]
  },
  {
   "cell_type": "code",
   "execution_count": null,
   "metadata": {},
   "outputs": [],
   "source": [
    "def plot_genre_sensitivity_line(model, X_base, genre_columns):\n",
    "    predictions = []\n",
    "    genre_indices = list(range(len(genre_columns)))  # For x-axis\n",
    "\n",
    "    for genre in genre_columns:\n",
    "        X_temp = X_base.copy()\n",
    "        X_temp[genre_columns] = 0  # Reset all genres to 0\n",
    "        X_temp[genre] = 1  # Activate current genre\n",
    "        with torch.no_grad():\n",
    "            prediction = model(torch.tensor(X_temp.astype(np.float32)))\n",
    "            predictions.append(prediction.numpy())\n",
    "\n",
    "    plt.plot(genre_indices, predictions, marker='o')\n",
    "    plt.xlabel('Genre')\n",
    "    plt.ylabel('Probability of Being Bestseller')\n",
    "    plt.title('Sensitivity Analysis for Genre')\n",
    "    plt.xticks(genre_indices, genre_columns, rotation=90)\n",
    "    plt.show()\n",
    "\n",
    "# Base input - mean values for all features except genres\n",
    "X_base = X_train.mean()\n",
    "genre_columns = [col for col in X_train.columns if 'Genre_' in col]\n",
    "plot_genre_sensitivity_line(model, X_base, genre_columns)\n"
   ]
  }
 ],
 "metadata": {
  "kernelspec": {
   "display_name": "Python 3",
   "language": "python",
   "name": "python3"
  },
  "language_info": {
   "codemirror_mode": {
    "name": "ipython",
    "version": 3
   },
   "file_extension": ".py",
   "mimetype": "text/x-python",
   "name": "python",
   "nbconvert_exporter": "python",
   "pygments_lexer": "ipython3",
   "version": "3.11.4"
  },
  "orig_nbformat": 4
 },
 "nbformat": 4,
 "nbformat_minor": 2
}
